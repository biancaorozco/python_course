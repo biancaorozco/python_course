{
 "cells": [
  {
   "cell_type": "code",
   "execution_count": 4,
   "metadata": {},
   "outputs": [
    {
     "data": {
      "text/plain": [
       "5.0"
      ]
     },
     "execution_count": 4,
     "metadata": {},
     "output_type": "execute_result"
    }
   ],
   "source": [
    "#Version 1\n",
    "def myfunc(a,b):\n",
    "    # Returns 5% of the sum of a and b\n",
    "    return sum((a,b)) * 0.05\n",
    "    # This is a ^^ tuple\n",
    "\n",
    "myfunc(40,60)"
   ]
  },
  {
   "cell_type": "markdown",
   "metadata": {},
   "source": [
    "Notice: This is called a positional argument<br/>\n",
    "        Since 40 was in the 1st position, it was assigned to variable a <br/>\n",
    "        Since 60 was in the 2nd position, it was assigned to variable b <br/>\n",
    "        \n",
    "<b> What if they had passed in 3 numbers?"
   ]
  },
  {
   "cell_type": "code",
   "execution_count": 3,
   "metadata": {},
   "outputs": [
    {
     "data": {
      "text/plain": [
       "5.0"
      ]
     },
     "execution_count": 3,
     "metadata": {},
     "output_type": "execute_result"
    }
   ],
   "source": [
    "#Version 2\n",
    "def myfunc(a,b,c=0):\n",
    "    return sum((a,b,c)) * 0.05\n",
    "\n",
    "myfunc(30,20,50)"
   ]
  },
  {
   "cell_type": "code",
   "execution_count": 5,
   "metadata": {},
   "outputs": [
    {
     "data": {
      "text/plain": [
       "4.4"
      ]
     },
     "execution_count": 5,
     "metadata": {},
     "output_type": "execute_result"
    }
   ],
   "source": [
    "#Version 3\n",
    "def myfunc(*args):\n",
    "    return sum(args) * 0.05\n",
    "myfunc(1,1,2,3,5,8,13,21,34)"
   ]
  },
  {
   "cell_type": "markdown",
   "metadata": {},
   "source": [
    "Notice: *args allows me to use an arbitrary number of arguments and treats it as a tuple <br/>\n",
    "Notice: **kwargs allows me to use an arbitrary number of key word arguments and treats it as a dictionary"
   ]
  },
  {
   "cell_type": "code",
   "execution_count": 7,
   "metadata": {},
   "outputs": [
    {
     "name": "stdout",
     "output_type": "stream",
     "text": [
      "My fruit of choice is apple\n"
     ]
    }
   ],
   "source": [
    "def myfunc(**kwargs):\n",
    "    if 'fruit' in kwargs:\n",
    "        print('My fruit of choice is {}' .format(kwargs['fruit']))\n",
    "    else:\n",
    "        print('I did not find any fruit here')\n",
    "        \n"
   ]
  },
  {
   "cell_type": "code",
   "execution_count": 8,
   "metadata": {
    "scrolled": true
   },
   "outputs": [
    {
     "name": "stdout",
     "output_type": "stream",
     "text": [
      "{'fruit': 'apple', 'veggie': 'lettuce'}\n"
     ]
    }
   ],
   "source": [
    "#Just to show the dictionary this creates\n",
    "def myfunc(**kwargs):\n",
    "    print(kwargs)\n",
    "myfunc(fruit = 'apple', veggie = 'lettuce')"
   ]
  },
  {
   "cell_type": "markdown",
   "metadata": {},
   "source": [
    "Notice: you can use any term such as **jellyfish, but what creates the dictionaries is the double asterisk"
   ]
  },
  {
   "cell_type": "code",
   "execution_count": 12,
   "metadata": {
    "scrolled": true
   },
   "outputs": [
    {
     "name": "stdout",
     "output_type": "stream",
     "text": [
      "(10, 20, 30)\n",
      "{'fruit': 'orange', 'food': 'eggs', 'animal': 'panther'}\n",
      "I would like 10 eggs\n"
     ]
    }
   ],
   "source": [
    "def myfunc(*args, **kwargs):\n",
    "    print(args)\n",
    "    #This will print as a tuple\n",
    "    print(kwargs)\n",
    "    #This will print as a dictionary\n",
    "    print('I would like {} {}' .format(args[0],kwargs['food']))\n",
    "\n",
    "myfunc(10,20,30,fruit = 'orange', food = 'eggs', animal = 'panther')"
   ]
  },
  {
   "cell_type": "markdown",
   "metadata": {},
   "source": [
    "Notice: Once again, the position matters because args is before kwargs"
   ]
  },
  {
   "cell_type": "code",
   "execution_count": 16,
   "metadata": {},
   "outputs": [
    {
     "data": {
      "text/plain": [
       "[2, 4, 6, 8]"
      ]
     },
     "execution_count": 16,
     "metadata": {},
     "output_type": "execute_result"
    }
   ],
   "source": [
    "#Exercise 9\n",
    "#Only print and create a list of even numbers\n",
    "def myfunc(*args):\n",
    "    args_list = [x for x in args if x%2 == 0]\n",
    "    #This is a list comprehension ^^\n",
    "    return args_list\n",
    "\n",
    "myfunc(1,2,3,4,5,6,7,8)"
   ]
  },
  {
   "cell_type": "code",
   "execution_count": 1,
   "metadata": {},
   "outputs": [
    {
     "data": {
      "text/plain": [
       "'I ReMeMbEr wHeN KiDs iN HiGh sChOoL UsEd tO TeXt lIkE ThIs lOl'"
      ]
     },
     "execution_count": 1,
     "metadata": {},
     "output_type": "execute_result"
    }
   ],
   "source": [
    "#Exercise 10\n",
    "#Capitalize every other letter in given string\n",
    "\n",
    "def myfunction(string):\n",
    "    temp = ''\n",
    "    for i in range(len(string)):\n",
    "        if i%2==0:\n",
    "            temp += string[i].upper()\n",
    "        else: \n",
    "            temp += string[i].lower()\n",
    "    return temp\n",
    "\n",
    "myfunction('I remember when kids in high school used to text like this lol')\n",
    "\n",
    "# Note: this is wrong. The directions ask that every odd letter\n",
    "# be lowercase. Thus, the first letter should be lowercase.\n",
    "# Note: string index starts with 0 as the first letter\n",
    "# Note: switch if-else conditions to correct this"
   ]
  },
  {
   "cell_type": "code",
   "execution_count": 5,
   "metadata": {},
   "outputs": [
    {
     "data": {
      "text/plain": [
       "'aNtHrOpOmOrPhIsM'"
      ]
     },
     "execution_count": 5,
     "metadata": {},
     "output_type": "execute_result"
    }
   ],
   "source": [
    "#Exercise 10\n",
    "#Capitalize every other letter in given string\n",
    "\n",
    "def myfunc(string):\n",
    "    temp = ''\n",
    "    for i in range(len(string)):\n",
    "        if i%2 == 0:\n",
    "            temp += string[i].lower()\n",
    "        else:\n",
    "            temp += string[i].upper()\n",
    "    return temp\n",
    "\n",
    "myfunc('Anthropomorphism')"
   ]
  },
  {
   "cell_type": "markdown",
   "metadata": {},
   "source": [
    "This is correct!"
   ]
  }
 ],
 "metadata": {
  "kernelspec": {
   "display_name": "Python 3",
   "language": "python",
   "name": "python3"
  },
  "language_info": {
   "codemirror_mode": {
    "name": "ipython",
    "version": 3
   },
   "file_extension": ".py",
   "mimetype": "text/x-python",
   "name": "python",
   "nbconvert_exporter": "python",
   "pygments_lexer": "ipython3",
   "version": "3.6.5"
  }
 },
 "nbformat": 4,
 "nbformat_minor": 2
}
