{
 "cells": [
  {
   "cell_type": "markdown",
   "metadata": {},
   "source": [
    "# Milestone Project 1: Walkthrough Steps Workbook\n",
    "\n",
    "Below is a set of steps for you to follow to try to create the Tic Tac Toe Milestone Project game!"
   ]
  },
  {
   "cell_type": "markdown",
   "metadata": {},
   "source": [
    "#### Some suggested tools before you get started:\n",
    "To take input from a user:\n",
    "\n",
    "    player1 = input(\"Please pick a marker 'X' or 'O'\")\n",
    "    \n",
    "Note that input() takes in a string. If you need an integer value, use\n",
    "\n",
    "    position = int(input('Please enter a number'))\n",
    "    \n",
    "<br>To clear the screen between moves:\n",
    "\n",
    "    from IPython.display import clear_output\n",
    "    clear_output()\n",
    "    \n",
    "Note that clear_output() will only work in jupyter. To clear the screen in other IDEs, consider:\n",
    "\n",
    "    print('\\n'*100)\n",
    "    \n",
    "This scrolls the previous board up out of view. Now on to the program!"
   ]
  },
  {
   "cell_type": "markdown",
   "metadata": {},
   "source": [
    "**Step 1: Write a function that can print out a board. Set up your board as a list, where each index 1-9 corresponds with a number on a number pad, so you get a 3 by 3 board representation.**"
   ]
  },
  {
   "cell_type": "code",
   "execution_count": 1,
   "metadata": {},
   "outputs": [],
   "source": [
    "from IPython.display import clear_output\n",
    "\n",
    "def display_board(board):\n",
    "    clear_output()\n",
    "    print('     |     |     ')\n",
    "    print('  '+board[1]+'  |  '+board[2]+'  |  '+board[3]+'  ')\n",
    "    print('_____|_____|_____')\n",
    "    print('     |     |     ')\n",
    "    print('  '+board[4]+'  |  '+board[5]+'  |  '+board[6]+'  ')\n",
    "    print('_____|_____|_____')\n",
    "    print('     |     |     ')\n",
    "    print('  '+board[7]+'  |  '+board[8]+'  |  '+board[9]+'  ')\n",
    "    print('     |     |     ')"
   ]
  },
  {
   "cell_type": "markdown",
   "metadata": {},
   "source": [
    "**TEST Step 1:** run your function on a test version of the board list, and make adjustments as necessary"
   ]
  },
  {
   "cell_type": "code",
   "execution_count": 31,
   "metadata": {},
   "outputs": [
    {
     "name": "stdout",
     "output_type": "stream",
     "text": [
      "     |     |     \n",
      "     |  O  |  X  \n",
      "_____|_____|_____\n",
      "     |     |     \n",
      "     |  X  |     \n",
      "_____|_____|_____\n",
      "     |     |     \n",
      "  X  |  O  |     \n",
      "     |     |     \n"
     ]
    }
   ],
   "source": [
    "test_board = ['#',' ','O','X',' ','X',' ','X','O',' ']\n",
    "display_board(test_board)"
   ]
  },
  {
   "cell_type": "markdown",
   "metadata": {},
   "source": [
    "**Step 2: Write a function that can take in a player input and assign their marker as 'X' or 'O'. Think about using *while* loops to continually ask until you get a correct answer.**"
   ]
  },
  {
   "cell_type": "code",
   "execution_count": 7,
   "metadata": {},
   "outputs": [],
   "source": [
    "def player_input():\n",
    "    xo = True\n",
    "    while xo: \n",
    "        choice = input('Player 1, you get first choice! Do you want to be X or O? ')\n",
    "        if choice == 'X':\n",
    "            xo = False\n",
    "            other = 'O'\n",
    "        elif choice == 'O':\n",
    "            xo = False\n",
    "            other = 'X'\n",
    "    print(f'\\nPlayer 1 is {choice}\\nPlayer 2 is {other}')\n",
    "    return choice, other"
   ]
  },
  {
   "cell_type": "markdown",
   "metadata": {},
   "source": [
    "**TEST Step 2:** run the function to make sure it returns the desired output"
   ]
  },
  {
   "cell_type": "code",
   "execution_count": 8,
   "metadata": {},
   "outputs": [
    {
     "name": "stdout",
     "output_type": "stream",
     "text": [
      "Player 1, you get first choice! Do you want to be X or O? a\n",
      "Player 1, you get first choice! Do you want to be X or O? X\n",
      "\n",
      "Player 1 is X\n",
      "Player 2 is O\n"
     ]
    }
   ],
   "source": [
    "play1, play2 = player_input()"
   ]
  },
  {
   "cell_type": "code",
   "execution_count": 9,
   "metadata": {},
   "outputs": [
    {
     "data": {
      "text/plain": [
       "'X'"
      ]
     },
     "execution_count": 9,
     "metadata": {},
     "output_type": "execute_result"
    }
   ],
   "source": [
    "play1"
   ]
  },
  {
   "cell_type": "markdown",
   "metadata": {},
   "source": [
    "**Step 3: Write a function that takes in the board list object, a marker ('X' or 'O'), and a desired position (number 1-9) and assigns it to the board.**"
   ]
  },
  {
   "cell_type": "code",
   "execution_count": 10,
   "metadata": {},
   "outputs": [],
   "source": [
    "def place_marker(board, marker, position):\n",
    "    board[position] = marker"
   ]
  },
  {
   "cell_type": "markdown",
   "metadata": {},
   "source": [
    "**TEST Step 3:** run the place marker function using test parameters and display the modified board"
   ]
  },
  {
   "cell_type": "code",
   "execution_count": 28,
   "metadata": {},
   "outputs": [
    {
     "name": "stdout",
     "output_type": "stream",
     "text": [
      "     |     |     \n",
      "  X  |  O  |  X  \n",
      "_____|_____|_____\n",
      "     |     |     \n",
      "  O  |  X  |  O  \n",
      "_____|_____|_____\n",
      "     |     |     \n",
      "  X  |  O  |  *  \n",
      "     |     |     \n"
     ]
    }
   ],
   "source": [
    "place_marker(test_board,'*',9)\n",
    "display_board(test_board)"
   ]
  },
  {
   "cell_type": "markdown",
   "metadata": {},
   "source": [
    "**Step 4: Write a function that takes in a board and a mark (X or O) and then checks to see if that mark has won. **"
   ]
  },
  {
   "cell_type": "code",
   "execution_count": 18,
   "metadata": {},
   "outputs": [],
   "source": [
    "def win_check(board, marker):\n",
    "    return (\n",
    "    (board[1] == marker and board[2] == marker and board[3] == marker) or #across the top\n",
    "    (board[1] == marker and board[4] == marker and board[7] == marker) or #down the left\n",
    "    (board[1] == marker and board[5] == marker and board[9] == marker) or #diagonal\n",
    "    (board[2] == marker and board[5] == marker and board[8] == marker) or #down the middle\n",
    "    (board[4] == marker and board[5] == marker and board[6] == marker) or #across the middle\n",
    "    (board[3] == marker and board[5] == marker and board[7] == marker) or #diagonal\n",
    "    (board[3] == marker and board[6] == marker and board[9] == marker) or #down the right\n",
    "    (board[7] == marker and board[8] == marker and board[9] == marker)) #across the bottom"
   ]
  },
  {
   "cell_type": "markdown",
   "metadata": {},
   "source": [
    "**TEST Step 4:** run the win_check function against our test_board - it should return True"
   ]
  },
  {
   "cell_type": "code",
   "execution_count": 19,
   "metadata": {},
   "outputs": [
    {
     "data": {
      "text/plain": [
       "True"
      ]
     },
     "execution_count": 19,
     "metadata": {},
     "output_type": "execute_result"
    }
   ],
   "source": [
    "win_check(test_board,'X')"
   ]
  },
  {
   "cell_type": "markdown",
   "metadata": {},
   "source": [
    "**Step 5: Write a function that uses the random module to randomly decide which player goes first. You may want to lookup random.randint() Return a string of which player went first.**"
   ]
  },
  {
   "cell_type": "code",
   "execution_count": 20,
   "metadata": {},
   "outputs": [],
   "source": [
    "import random\n",
    "\n",
    "def choose_first():\n",
    "    dibs = random.randint(1,2)\n",
    "    if dibs == 1:\n",
    "        print(f'\\nOkay. Player {dibs} goes first.') \n",
    "        return 'Player 1'\n",
    "    else:\n",
    "        print(f'\\nOkay. Player {dibs} goes first.') \n",
    "        return 'Player 2'"
   ]
  },
  {
   "cell_type": "code",
   "execution_count": 21,
   "metadata": {},
   "outputs": [
    {
     "name": "stdout",
     "output_type": "stream",
     "text": [
      "\n",
      "Okay. Player 2 goes first.\n"
     ]
    },
    {
     "data": {
      "text/plain": [
       "'Player 2'"
      ]
     },
     "execution_count": 21,
     "metadata": {},
     "output_type": "execute_result"
    }
   ],
   "source": [
    "choose_first()"
   ]
  },
  {
   "cell_type": "markdown",
   "metadata": {},
   "source": [
    "**Step 6: Write a function that returns a boolean indicating whether a space on the board is freely available.**"
   ]
  },
  {
   "cell_type": "code",
   "execution_count": 22,
   "metadata": {},
   "outputs": [],
   "source": [
    "def space_check(board, position):\n",
    "    return board[position] == ' '"
   ]
  },
  {
   "cell_type": "code",
   "execution_count": 24,
   "metadata": {},
   "outputs": [
    {
     "data": {
      "text/plain": [
       "False"
      ]
     },
     "execution_count": 24,
     "metadata": {},
     "output_type": "execute_result"
    }
   ],
   "source": [
    "space_check(test_board, 3)"
   ]
  },
  {
   "cell_type": "markdown",
   "metadata": {},
   "source": [
    "**Step 7: Write a function that checks if the board is full and returns a boolean value. True if full, False otherwise.**"
   ]
  },
  {
   "cell_type": "code",
   "execution_count": 29,
   "metadata": {},
   "outputs": [],
   "source": [
    "def full_board_check(board):\n",
    "    for i in range(1,9):\n",
    "        if space_check(board, i):\n",
    "            return False\n",
    "    return True"
   ]
  },
  {
   "cell_type": "code",
   "execution_count": 30,
   "metadata": {},
   "outputs": [
    {
     "data": {
      "text/plain": [
       "True"
      ]
     },
     "execution_count": 30,
     "metadata": {},
     "output_type": "execute_result"
    }
   ],
   "source": [
    "full_board_check(test_board)"
   ]
  },
  {
   "cell_type": "markdown",
   "metadata": {},
   "source": [
    "**Step 8: Write a function that asks for a player's next position (as a number 1-9) and then uses the function from step 6 to check if it's a free position. If it is, then return the position for later use.**"
   ]
  },
  {
   "cell_type": "code",
   "execution_count": null,
   "metadata": {},
   "outputs": [],
   "source": [
    "def player_choice(board, next_up):\n",
    "    \n",
    "    position = 0\n",
    "    \n",
    "    while position not in range(1,10) or not space_check(board, position):\n",
    "        position = int(input(f'{next_up}, choose your new position (1-9): '))\n",
    "    \n",
    "    return int(position)"
   ]
  },
  {
   "cell_type": "code",
   "execution_count": null,
   "metadata": {},
   "outputs": [],
   "source": [
    "player_choice(test_board, 'Player 1')"
   ]
  },
  {
   "cell_type": "markdown",
   "metadata": {},
   "source": [
    "**Step 9: Write a function that asks the player if they want to play again and returns a boolean True if they do want to play again.**"
   ]
  },
  {
   "cell_type": "code",
   "execution_count": null,
   "metadata": {},
   "outputs": [],
   "source": [
    "def replay():\n",
    "    return input('Do you want to play again? Enter Yes or No: ').lower().startswith('y')"
   ]
  },
  {
   "cell_type": "code",
   "execution_count": null,
   "metadata": {},
   "outputs": [],
   "source": [
    "replay()"
   ]
  },
  {
   "cell_type": "code",
   "execution_count": null,
   "metadata": {},
   "outputs": [],
   "source": [
    "def game_on():\n",
    "    return input('Are you ready to start the game? Y or N: ').lower().startswith('y')"
   ]
  },
  {
   "cell_type": "code",
   "execution_count": null,
   "metadata": {},
   "outputs": [],
   "source": [
    "game_on()"
   ]
  },
  {
   "cell_type": "markdown",
   "metadata": {
    "collapsed": true
   },
   "source": [
    "**Step 10: Here comes the hard part! Use while loops and the functions you've made to run the game!**"
   ]
  },
  {
   "cell_type": "code",
   "execution_count": null,
   "metadata": {},
   "outputs": [],
   "source": [
    "print('Welcome to Tic Tac Toe!')\n",
    "\n",
    "\n",
    "while True:\n",
    "    # Clear the board\n",
    "    blank_board = [' '] * 10\n",
    "    num_board = [' ','1','2','3','4','5','6','7','8','9']\n",
    "   \n",
    "    # Players choose marker\n",
    "    p1marker, p2marker = player_input()\n",
    "    \n",
    "    # Randomly select who goes first\n",
    "    turn = choose_first()\n",
    "\n",
    "    #Are they ready?\n",
    "    ready = game_on()\n",
    "    \n",
    "    #Display numbered board\n",
    "    print(\"Great! Here are the board positions... \")\n",
    "    display_board(num_board)\n",
    "    \n",
    "    while ready:\n",
    "        if turn == 'Player 1':\n",
    "        \n",
    "            #Player 1 Turn\n",
    "            position = player_choice(blank_board, turn)\n",
    "            place_marker(blank_board, p1marker, position)\n",
    "            display_board(blank_board)\n",
    "        \n",
    "            if win_check(blank_board,p1marker) == True:\n",
    "                display_board(blank_board)\n",
    "                print(f'Congratulations! {turn} won the game!')\n",
    "                ready = False\n",
    "                \n",
    "            else: \n",
    "                if full_board_check(blank_board):\n",
    "                    display_board(blank_board)\n",
    "                    print('The game is a draw!')\n",
    "                    break\n",
    "                else: \n",
    "                    turn = 'Player 2'\n",
    "        else:\n",
    "            \n",
    "            # Player2's turn.\n",
    "            position = player_choice(blank_board, turn)\n",
    "            place_marker(blank_board, p2marker, position)\n",
    "            display_board(blank_board)\n",
    "\n",
    "            if win_check(blank_board,p2marker) == True:\n",
    "                display_board(blank_board)\n",
    "                print(f'Congratulations! {turn} won the game!')\n",
    "                ready = False\n",
    "                \n",
    "            else: \n",
    "                if full_board_check(blank_board):\n",
    "                    display_board(blank_board)\n",
    "                    print('The game is a draw!')\n",
    "                    break\n",
    "                else: \n",
    "                    turn = 'Player 1'\n",
    "\n",
    "    if not replay():\n",
    "        break"
   ]
  },
  {
   "cell_type": "markdown",
   "metadata": {
    "collapsed": true
   },
   "source": [
    "## Good Job!"
   ]
  }
 ],
 "metadata": {
  "kernelspec": {
   "display_name": "Python 3",
   "language": "python",
   "name": "python3"
  },
  "language_info": {
   "codemirror_mode": {
    "name": "ipython",
    "version": 3
   },
   "file_extension": ".py",
   "mimetype": "text/x-python",
   "name": "python",
   "nbconvert_exporter": "python",
   "pygments_lexer": "ipython3",
   "version": "3.6.5"
  }
 },
 "nbformat": 4,
 "nbformat_minor": 1
}
